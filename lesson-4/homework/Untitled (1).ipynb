{
 "cells": [
  {
   "cell_type": "code",
   "execution_count": 65,
   "id": "60846766-7e6b-4341-ba85-aa79083efad9",
   "metadata": {},
   "outputs": [
    {
     "name": "stdout",
     "output_type": "stream",
     "text": [
      "[1, 2, 4, 2, 4, 5]\n"
     ]
    }
   ],
   "source": [
    "#1.1\n",
    "list1 = [1, 1, 2, 3, 4, 2]\n",
    "list2 = [1, 3, 4, 5]\n",
    "\n",
    "for i in list1:\n",
    "    for j in list2:\n",
    "        if i == j:\n",
    "            list1.remove(i)\n",
    "            list2.remove(j)\n",
    "print(list1+list2)"
   ]
  },
  {
   "cell_type": "code",
   "execution_count": 69,
   "id": "9efe7640-34fe-439e-bac4-82e9b79814db",
   "metadata": {},
   "outputs": [
    {
     "name": "stdout",
     "output_type": "stream",
     "text": [
      "[1, 2, 2, 5]\n"
     ]
    }
   ],
   "source": [
    "#1.3\n",
    "list1_c = list1[:]\n",
    "list2_c = list2[:]\n",
    "\n",
    "for i in list1_c:\n",
    "    if i in list2_c:\n",
    "        while i in list1:\n",
    "            list1.remove(i)\n",
    "        while i in list2:\n",
    "            list2.remove(i)\n",
    "        \n",
    "            \n",
    "result = list1 + list2        \n",
    "print(result)"
   ]
  },
  {
   "cell_type": "code",
   "execution_count": 80,
   "id": "85cc5978-28ba-4d2d-bb1e-368141dad24d",
   "metadata": {},
   "outputs": [
    {
     "name": "stdin",
     "output_type": "stream",
     "text": [
      "Num: 5\n"
     ]
    },
    {
     "name": "stdout",
     "output_type": "stream",
     "text": [
      "0\n",
      "1\n",
      "4\n",
      "9\n",
      "16\n"
     ]
    }
   ],
   "source": [
    "#2\n",
    "n = int(input(\"Num:\"))\n",
    "for i in range(n):\n",
    "    if i < n:\n",
    "        print(i**2)\n",
    "    else:\n",
    "        break"
   ]
  },
  {
   "cell_type": "code",
   "execution_count": 104,
   "id": "adecfd00-36af-4df9-a72a-0bef3f7d6a11",
   "metadata": {},
   "outputs": [
    {
     "name": "stdin",
     "output_type": "stream",
     "text": [
      "text: abcabcdabcdeabcdefabcdefg\n"
     ]
    },
    {
     "name": "stdout",
     "output_type": "stream",
     "text": [
      "ab_c_ab_c_dab_cdea_bc_def_ab_c_def_g\n"
     ]
    }
   ],
   "source": [
    "#3\n",
    "txt = input(\"text:\")\n",
    "\n",
    "result = []\n",
    "vowels = 'aeiou'\n",
    "\n",
    "i = 0\n",
    "while i < len(txt):\n",
    "    result.append(txt[i])\n",
    "    if i == len(txt) - 1:\n",
    "        break\n",
    "    if txt[i].lower() in vowels:\n",
    "        if i + 1 < len(txt):\n",
    "            result.append(txt[i+1])\n",
    "            result.append(\"_\")\n",
    "            i += 1\n",
    "    elif (len(result) - result.count(\"_\")) % 3 == 0:\n",
    "        result.append(\"_\")\n",
    "    i+=1\n",
    "\n",
    "print(\"\".join(result))"
   ]
  },
  {
   "cell_type": "code",
   "execution_count": 2,
   "id": "bde9734d-07d9-4363-b373-2be911c93457",
   "metadata": {},
   "outputs": [
    {
     "name": "stdin",
     "output_type": "stream",
     "text": [
      "Guess: 44\n"
     ]
    },
    {
     "name": "stdout",
     "output_type": "stream",
     "text": [
      "Too low!\n"
     ]
    },
    {
     "name": "stdin",
     "output_type": "stream",
     "text": [
      "Guess: 44\n"
     ]
    },
    {
     "name": "stdout",
     "output_type": "stream",
     "text": [
      "Too low!\n"
     ]
    },
    {
     "name": "stdin",
     "output_type": "stream",
     "text": [
      "Guess: 66\n"
     ]
    },
    {
     "name": "stdout",
     "output_type": "stream",
     "text": [
      "Too low!\n"
     ]
    },
    {
     "name": "stdin",
     "output_type": "stream",
     "text": [
      "Guess: \n"
     ]
    },
    {
     "ename": "ValueError",
     "evalue": "invalid literal for int() with base 10: ''",
     "output_type": "error",
     "traceback": [
      "\u001b[0;31m---------------------------------------------------------------------------\u001b[0m",
      "\u001b[0;31mValueError\u001b[0m                                Traceback (most recent call last)",
      "Cell \u001b[0;32mIn[2], line 8\u001b[0m\n\u001b[1;32m      5\u001b[0m chances \u001b[38;5;241m=\u001b[39m \u001b[38;5;241m10\u001b[39m\n\u001b[1;32m      7\u001b[0m \u001b[38;5;28;01mwhile\u001b[39;00m(chances):\n\u001b[0;32m----> 8\u001b[0m     guess \u001b[38;5;241m=\u001b[39m \u001b[38;5;28;43mint\u001b[39;49m\u001b[43m(\u001b[49m\u001b[38;5;28;43minput\u001b[39;49m\u001b[43m(\u001b[49m\u001b[38;5;124;43m'\u001b[39;49m\u001b[38;5;124;43mGuess:\u001b[39;49m\u001b[38;5;124;43m'\u001b[39;49m\u001b[43m)\u001b[49m\u001b[43m)\u001b[49m\n\u001b[1;32m      9\u001b[0m     \u001b[38;5;28;01mif\u001b[39;00m guess \u001b[38;5;241m>\u001b[39m rand_num:\n\u001b[1;32m     10\u001b[0m         \u001b[38;5;28mprint\u001b[39m(\u001b[38;5;124m\"\u001b[39m\u001b[38;5;124mToo high!\u001b[39m\u001b[38;5;124m\"\u001b[39m)\n",
      "\u001b[0;31mValueError\u001b[0m: invalid literal for int() with base 10: ''"
     ]
    }
   ],
   "source": [
    "#4\n",
    "import random\n",
    "\n",
    "rand_num = random.randint(1,100)\n",
    "chances = 10\n",
    "\n",
    "while(chances):\n",
    "    guess = int(input('Guess:'))\n",
    "    if guess > rand_num:\n",
    "        print(\"Too high!\")\n",
    "        chances -= 1\n",
    "    elif guess < rand_num:\n",
    "        print(\"Too low!\")\n",
    "        chances -= 1\n",
    "    else:\n",
    "        print(\"You guessed it right!\")\n",
    "        break\n",
    "    if chances == 0:\n",
    "        decision = input(\"You lost. Want to play again?\")\n",
    "        if decision == 'Y' or 'Yes' or 'y' or 'ok':\n",
    "            chances = 10\n",
    "            rand_num = random.randint(1,100)"
   ]
  },
  {
   "cell_type": "code",
   "execution_count": 10,
   "id": "82c19d31-13ac-4c85-9496-6ac91ff21172",
   "metadata": {},
   "outputs": [
    {
     "name": "stdin",
     "output_type": "stream",
     "text": [
      "Enter password: geeeeeee\n"
     ]
    },
    {
     "name": "stdout",
     "output_type": "stream",
     "text": [
      "Password must contain an uppercase letter.\n"
     ]
    }
   ],
   "source": [
    "#5\n",
    "upper_l = 0\n",
    "passw = input(\"Enter password:\")\n",
    "if len(passw) < 8:\n",
    "    print(\"password too short\")\n",
    "elif not any(letter.isupper() for letter in passw):\n",
    "    print(\"Password must contain an uppercase letter.\")\n",
    "else:\n",
    "    print(\"Password is strong.\")"
   ]
  },
  {
   "cell_type": "code",
   "execution_count": 28,
   "id": "51968350-e5e9-44ce-bc92-9ed6cf482efc",
   "metadata": {},
   "outputs": [
    {
     "name": "stdout",
     "output_type": "stream",
     "text": [
      "2\n",
      "3\n",
      "5\n",
      "7\n",
      "11\n",
      "13\n",
      "17\n",
      "19\n",
      "23\n",
      "29\n",
      "31\n",
      "37\n",
      "41\n",
      "43\n",
      "47\n",
      "53\n",
      "59\n",
      "61\n",
      "67\n",
      "71\n",
      "73\n",
      "79\n",
      "83\n",
      "89\n",
      "97\n"
     ]
    }
   ],
   "source": [
    "#6\n",
    "for i in range(1,101):\n",
    "    if i == 1:\n",
    "        continue\n",
    "    isPrime = True\n",
    "    for j in range(2,int(i**0.5)+1):\n",
    "        if i % j == 0:\n",
    "            isPrime=False\n",
    "            break\n",
    "    if isPrime:\n",
    "        print(i)\n",
    "        \n",
    "           "
   ]
  },
  {
   "cell_type": "raw",
   "id": "11e97dd8-26de-4f03-bee3-98e091d2c7fb",
   "metadata": {},
   "source": [
    "#7\n",
    "RPS = [\"rock\",\"paper\",\"scissors\"]\n",
    "p_win_streak = 0\n",
    "r_win_streak = 0\n",
    "\n",
    "while (p_win_streak < 5 or r_win_streak < 5) :\n",
    "    player = input(\"rock/paper/scissors:\").strip().lower()\n",
    "    guess = random.choice(RPS)\n",
    "    if player == \"rock \" and guess == \"paper\":\n",
    "        r_win_streak += 1\n",
    "        print(\"Robot won, streak-> \",r_win_streak)\n",
    "    elif player == \"rock\" and guess == \"scissors\":\n",
    "        p_win_streak += 1\n",
    "        print(\"Player won, streak-> \", p_win_streak)\n",
    "    elif player == \"paper\" and guess == \"rock\":\n",
    "        p_win_streak += 1\n",
    "        print(\"Player won, streak-> \", p_win_streak)\n",
    "    elif player == \"paper\" and guess == \"scissors\":\n",
    "        r_win_streak += 1\n",
    "        print(\"Robot won, streak-> \",r_win_streak)\n",
    "    elif player == \"scissors\" and guess == \"rock\":\n",
    "        r_win_streak += 1\n",
    "        print(\"Robot won, streak-> \",r_win_streak)\n",
    "    elif player == \"scissors\" and guess == \"paper\":\n",
    "        p_win_streak += 1\n",
    "        print(\"Player won, streak-> \", p_win_streak)\n",
    "    elif player and guess:\n",
    "        print(\"Draw\")\n",
    "    else:\n",
    "        print(\"invalid input\")\n",
    "\n",
    "if p_win_streak == 5:\n",
    "    print(\"Player won\")\n",
    "elif r_win_streak == 5:\n",
    "    print(\"Robot won\")"
   ]
  },
  {
   "cell_type": "code",
   "execution_count": null,
   "id": "fd94cf42-0f6d-4416-a349-556cbc439b62",
   "metadata": {},
   "outputs": [],
   "source": []
  },
  {
   "cell_type": "code",
   "execution_count": null,
   "id": "beaa5a75-2a92-486c-99ef-d115605a361d",
   "metadata": {},
   "outputs": [],
   "source": []
  }
 ],
 "metadata": {
  "kernelspec": {
   "display_name": "anaconda-2024.02-py310",
   "language": "python",
   "name": "conda-env-anaconda-2024.02-py310-py"
  },
  "language_info": {
   "codemirror_mode": {
    "name": "ipython",
    "version": 3
   },
   "file_extension": ".py",
   "mimetype": "text/x-python",
   "name": "python",
   "nbconvert_exporter": "python",
   "pygments_lexer": "ipython3",
   "version": "3.10.14"
  }
 },
 "nbformat": 4,
 "nbformat_minor": 5
}

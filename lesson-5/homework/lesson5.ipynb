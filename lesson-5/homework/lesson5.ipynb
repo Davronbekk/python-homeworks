{
  "nbformat": 4,
  "nbformat_minor": 0,
  "metadata": {
    "colab": {
      "provenance": []
    },
    "kernelspec": {
      "name": "python3",
      "display_name": "Python 3"
    },
    "language_info": {
      "name": "python"
    }
  },
  "cells": [
    {
      "cell_type": "code",
      "execution_count": 27,
      "metadata": {
        "colab": {
          "base_uri": "https://localhost:8080/"
        },
        "id": "Olq_-vS8hzji",
        "outputId": "3df16f3c-a235-417d-8d67-f0f5e16badc5"
      },
      "outputs": [
        {
          "output_type": "stream",
          "name": "stdout",
          "text": [
            "Enter a temperature in degrees F:72\n",
            "72 degrees of F is  22.22222222222222\n",
            "Enter a temperature in degrees C:37\n",
            "37 degrees C is F  98.60000000000001\n"
          ]
        }
      ],
      "source": [
        "def cel_to_far(d):\n",
        "  print(f'{d} degrees C is F ' , end=\" \")\n",
        "  return (d * (9/5) + 32)\n",
        "def far_to_cel(f):\n",
        "    print(f'{f} degrees of F is ' , end=\" \")\n",
        "    return  ((f - 32) * (5/9))\n",
        "\n",
        "b = int(input('Enter a temperature in degrees F:'))\n",
        "print(far_to_cel(b))\n",
        "\n",
        "a = int(input('Enter a temperature in degrees C:'))\n",
        "print(cel_to_far(a))"
      ]
    },
    {
      "cell_type": "code",
      "source": [
        "def invest(amount, rate, years):\n",
        "  for i in range(int(years)):\n",
        "    amount = amount*rate\n",
        "    print(f'year {i}:{amount}')\n",
        "  print('year ' , int(years) ,':', end=\" \")\n",
        "  return amount\n",
        "\n",
        "a = float(input('Enter amount:'))\n",
        "b = float(input('Enter rate:'))\n",
        "c = float(input('Enter years:'))\n",
        "\n",
        "print(invest(a,b,c))"
      ],
      "metadata": {
        "colab": {
          "base_uri": "https://localhost:8080/"
        },
        "id": "daFFvuZvtkx7",
        "outputId": "c0496249-f3fa-4f28-a0ff-1f938a9e1a3f"
      },
      "execution_count": 38,
      "outputs": [
        {
          "output_type": "stream",
          "name": "stdout",
          "text": [
            "Enter amount:1\n",
            "Enter rate:1.5\n",
            "Enter years:20\n",
            "year 0:1.5\n",
            "year 1:2.25\n",
            "year 2:3.375\n",
            "year 3:5.0625\n",
            "year 4:7.59375\n",
            "year 5:11.390625\n",
            "year 6:17.0859375\n",
            "year 7:25.62890625\n",
            "year 8:38.443359375\n",
            "year 9:57.6650390625\n",
            "year 10:86.49755859375\n",
            "year 11:129.746337890625\n",
            "year 12:194.6195068359375\n",
            "year 13:291.92926025390625\n",
            "year 14:437.8938903808594\n",
            "year 15:656.8408355712891\n",
            "year 16:985.2612533569336\n",
            "year 17:1477.8918800354004\n",
            "year 18:2216.8378200531006\n",
            "year 19:3325.256730079651\n",
            "year  20.0 : 3325.256730079651\n"
          ]
        }
      ]
    },
    {
      "cell_type": "code",
      "source": [
        "def factors(num):\n",
        "    for i in range(num+1):\n",
        "      if i == 0:\n",
        "        continue\n",
        "      elif num % i == 0:\n",
        "        print(i, ' is a factor of ', num)\n",
        "\n",
        "num = int(input(\"Enter number:\"))\n",
        "print(factors(num))"
      ],
      "metadata": {
        "colab": {
          "base_uri": "https://localhost:8080/"
        },
        "id": "E5sVVh6Dvdoy",
        "outputId": "f78d1c9a-8542-4542-83d9-25f0048a721d"
      },
      "execution_count": 41,
      "outputs": [
        {
          "output_type": "stream",
          "name": "stdout",
          "text": [
            "Enter number:12\n",
            "1  is a factor of  12\n",
            "2  is a factor of  12\n",
            "3  is a factor of  12\n",
            "4  is a factor of  12\n",
            "6  is a factor of  12\n",
            "12  is a factor of  12\n",
            "None\n"
          ]
        }
      ]
    },
    {
      "cell_type": "code",
      "source": [
        "universities = [\n",
        "    ['California Institute of Technology', 2175, 37704],\n",
        "    ['Harvard', 19627, 39849],\n",
        "    ['Massachusetts Institute of Technology', 10566, 40732],\n",
        "    ['Princeton', 7802, 37000],\n",
        "    ['Rice', 5879, 35551],\n",
        "    ['Stanford', 19535, 40569],\n",
        "    ['Yale', 11701, 40500]\n",
        "]\n",
        "def enrollment_stats(lst):\n",
        "   enrolled = [val[1] for val in lst]\n",
        "   tuitions = [val[2] for val in lst]\n",
        "   return enrolled, tuitions\n",
        "\n",
        "def mean(values):\n",
        "    return sum(values) / len(values)\n",
        "\n",
        "def median(values):\n",
        "    sorted_values = sorted(values)\n",
        "    mid = len(sorted_values) // 2\n",
        "    if len(sorted_values) % 2 == 0:\n",
        "        return (sorted_values[mid - 1] + sorted_values[mid]) / 2\n",
        "    else:\n",
        "        return sorted_values[mid]\n",
        "\n",
        "enrolled, tuitions = enrollment_stats(universities)\n",
        "\n",
        "total_students = sum(enrolled)\n",
        "total_tuition = sum(tuitions)\n",
        "\n",
        "student_mean = mean(enrolled)\n",
        "student_median = median(enrollments)\n",
        "\n",
        "tuition_mean = mean(tuitions)\n",
        "tuition_median = median(enrolled)\n",
        "\n",
        "print(f\"Total students: {total_students:,}\")\n",
        "print(f\"Total tuition: $ {total_tuition:,}\\n\")\n",
        "print(f\"Student mean: {student_mean:,.2f}\")\n",
        "print(f\"Student median: {student_median:,.0f}\\n\")\n",
        "print(f\"Tuition mean: $ {tuition_mean:,.2f}\")\n",
        "print(f\"Tuition median: $ {tuition_median:,.0f}\")"
      ],
      "metadata": {
        "colab": {
          "base_uri": "https://localhost:8080/"
        },
        "id": "M05KUTA1xeZf",
        "outputId": "df05a48b-3259-4623-9840-d8f3d57d3139"
      },
      "execution_count": 44,
      "outputs": [
        {
          "output_type": "stream",
          "name": "stdout",
          "text": [
            "Total students: 77,285\n",
            "Total tuition: $ 271,905\n",
            "\n",
            "Student mean: 11,040.71\n",
            "Student median: 10,566\n",
            "\n",
            "Tuition mean: $ 38,843.57\n",
            "Tuition median: $ 10,566\n"
          ]
        }
      ]
    },
    {
      "cell_type": "code",
      "source": [
        "def is_prime(n):\n",
        "    if n <= 1:\n",
        "        return False\n",
        "    for i in range(2, int(n**0.5) + 1):\n",
        "        if n % i == 0:\n",
        "            return False\n",
        "    return True\n",
        "a = int(input(\"is_prime?:\"))\n",
        "print(is_prime(a))"
      ],
      "metadata": {
        "colab": {
          "base_uri": "https://localhost:8080/"
        },
        "id": "tmbnVh8A0KLJ",
        "outputId": "1d2ef853-793e-4fdb-c29b-0e7b46e903a1"
      },
      "execution_count": 52,
      "outputs": [
        {
          "output_type": "stream",
          "name": "stdout",
          "text": [
            "is_prime?:12\n",
            "False\n"
          ]
        }
      ]
    }
  ]
}